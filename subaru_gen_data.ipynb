{
 "cells": [
  {
   "cell_type": "code",
   "execution_count": 6,
   "metadata": {},
   "outputs": [],
   "source": [
    "import numpy as np\n",
    "import matplotlib.pyplot as plt"
   ]
  },
  {
   "cell_type": "code",
   "execution_count": 7,
   "metadata": {},
   "outputs": [],
   "source": [
    "from DatasetBuilder import DatasetBuilder"
   ]
  },
  {
   "cell_type": "code",
   "execution_count": 8,
   "metadata": {},
   "outputs": [],
   "source": [
    "import numpy as np\n",
    "\n",
    "# Number of samples\n",
    "n_samples = 100\n",
    "\n",
    "# Initialize the DatasetBuilder\n",
    "builder = DatasetBuilder(n_samples=n_samples, random_seed=42)\n",
    "\n",
    "# Subaru dataset: model, engine_displacement, horsepower, torque, fuel_efficiency, weight, price\n",
    "\n",
    "# Add 'engine_displacement' as a primary feature (measured in liters)\n",
    "builder.add_feature('engine_displacement', lambda n: np.random.uniform(1.6, 3.6, size=n), coefficient=0.4, noise_level=0.1)\n",
    "\n",
    "# Add dependent features: 'horsepower', 'torque', and 'fuel_efficiency'\n",
    "# Add 'horsepower', which correlates with 'engine_displacement' (e.g., 80% correlation)\n",
    "builder.add_feature('horsepower', lambda n: np.random.randint(150, 400, size=n), \n",
    "                    coefficient=0.3, depends_on='engine_displacement', correlation_factor=0.8)\n",
    "\n",
    "# Add 'torque', which correlates with 'engine_displacement' (e.g., 75% correlation)\n",
    "builder.add_feature('torque', lambda n: np.random.randint(150, 350, size=n), \n",
    "                    coefficient=0.2, depends_on='engine_displacement', correlation_factor=0.75)\n",
    "\n",
    "# Add 'fuel_efficiency', which inversely correlates with 'engine_displacement' (e.g., 60% inverse correlation)\n",
    "builder.add_feature('fuel_efficiency', lambda n: np.random.uniform(15, 35, size=n), \n",
    "                    coefficient=-0.2, depends_on='engine_displacement', correlation_factor=-0.6)\n",
    "\n",
    "# Add independent features: 'model', 'weight', 'price'\n",
    "# Add 'model', categorical feature for Subaru car models\n",
    "builder.add_feature('model', lambda n: np.random.choice(['Forester', 'Outback', 'Crosstrek', 'Impreza', 'WRX', 'Legacy'], size=n), \n",
    "                    coefficient=5, noise_level=2)\n",
    "\n",
    "# Add 'weight', which can be independent\n",
    "builder.add_feature('weight', lambda n: np.random.randint(3000, 4500, size=n), coefficient=0.15)\n",
    "\n",
    "# Add 'price', which depends on 'horsepower' and 'model'\n",
    "builder.add_feature('price', lambda n: np.random.randint(20000, 45000, size=n), \n",
    "                    coefficient=0.25, depends_on='horsepower', correlation_factor=0.7)\n",
    "\n",
    "# Build the target variable: 'price', with some bias and noise\n",
    "subaru_data = builder.build_target(target_name='price', bias=25000, noise_std=2000, target_range=(18000, 50000))\n",
    "# Subaru dataset generation complete"
   ]
  },
  {
   "cell_type": "code",
   "execution_count": 9,
   "metadata": {},
   "outputs": [
    {
     "data": {
      "text/html": [
       "<div>\n",
       "<style scoped>\n",
       "    .dataframe tbody tr th:only-of-type {\n",
       "        vertical-align: middle;\n",
       "    }\n",
       "\n",
       "    .dataframe tbody tr th {\n",
       "        vertical-align: top;\n",
       "    }\n",
       "\n",
       "    .dataframe thead th {\n",
       "        text-align: right;\n",
       "    }\n",
       "</style>\n",
       "<table border=\"1\" class=\"dataframe\">\n",
       "  <thead>\n",
       "    <tr style=\"text-align: right;\">\n",
       "      <th></th>\n",
       "      <th>engine_displacement</th>\n",
       "      <th>horsepower</th>\n",
       "      <th>torque</th>\n",
       "      <th>fuel_efficiency</th>\n",
       "      <th>model</th>\n",
       "      <th>weight</th>\n",
       "      <th>price</th>\n",
       "    </tr>\n",
       "  </thead>\n",
       "  <tbody>\n",
       "    <tr>\n",
       "      <th>0</th>\n",
       "      <td>2.349080</td>\n",
       "      <td>44.279264</td>\n",
       "      <td>75.761810</td>\n",
       "      <td>38.395151</td>\n",
       "      <td>2.0</td>\n",
       "      <td>3825.0</td>\n",
       "      <td>28675.731600</td>\n",
       "    </tr>\n",
       "    <tr>\n",
       "      <th>1</th>\n",
       "      <td>3.501429</td>\n",
       "      <td>51.801143</td>\n",
       "      <td>71.376071</td>\n",
       "      <td>27.621470</td>\n",
       "      <td>5.0</td>\n",
       "      <td>4098.0</td>\n",
       "      <td>27250.658263</td>\n",
       "    </tr>\n",
       "    <tr>\n",
       "      <th>2</th>\n",
       "      <td>3.063988</td>\n",
       "      <td>78.451190</td>\n",
       "      <td>72.047991</td>\n",
       "      <td>33.888608</td>\n",
       "      <td>1.0</td>\n",
       "      <td>3412.0</td>\n",
       "      <td>29005.166744</td>\n",
       "    </tr>\n",
       "    <tr>\n",
       "      <th>3</th>\n",
       "      <td>2.797317</td>\n",
       "      <td>80.237854</td>\n",
       "      <td>52.597988</td>\n",
       "      <td>46.135067</td>\n",
       "      <td>4.0</td>\n",
       "      <td>4399.0</td>\n",
       "      <td>24715.721511</td>\n",
       "    </tr>\n",
       "    <tr>\n",
       "      <th>4</th>\n",
       "      <td>1.912037</td>\n",
       "      <td>41.729630</td>\n",
       "      <td>81.684028</td>\n",
       "      <td>45.922855</td>\n",
       "      <td>4.0</td>\n",
       "      <td>4443.0</td>\n",
       "      <td>29182.639156</td>\n",
       "    </tr>\n",
       "  </tbody>\n",
       "</table>\n",
       "</div>"
      ],
      "text/plain": [
       "   engine_displacement  horsepower     torque  fuel_efficiency  model  weight  \\\n",
       "0             2.349080   44.279264  75.761810        38.395151    2.0  3825.0   \n",
       "1             3.501429   51.801143  71.376071        27.621470    5.0  4098.0   \n",
       "2             3.063988   78.451190  72.047991        33.888608    1.0  3412.0   \n",
       "3             2.797317   80.237854  52.597988        46.135067    4.0  4399.0   \n",
       "4             1.912037   41.729630  81.684028        45.922855    4.0  4443.0   \n",
       "\n",
       "          price  \n",
       "0  28675.731600  \n",
       "1  27250.658263  \n",
       "2  29005.166744  \n",
       "3  24715.721511  \n",
       "4  29182.639156  "
      ]
     },
     "execution_count": 9,
     "metadata": {},
     "output_type": "execute_result"
    }
   ],
   "source": [
    "# Display the first few rows of the dataset\n",
    "subaru_data.head()"
   ]
  },
  {
   "cell_type": "code",
   "execution_count": 10,
   "metadata": {},
   "outputs": [
    {
     "data": {
      "text/plain": [
       "'subaru_stats.csv'"
      ]
     },
     "execution_count": 10,
     "metadata": {},
     "output_type": "execute_result"
    }
   ],
   "source": [
    "# Save to CSV\n",
    "csv_file_path = 'subaru_stats.csv'\n",
    "subaru_data.to_csv(csv_file_path, index=False)\n",
    "\n",
    "csv_file_path"
   ]
  }
 ],
 "metadata": {
  "kernelspec": {
   "display_name": "machinelearning",
   "language": "python",
   "name": "python3"
  },
  "language_info": {
   "codemirror_mode": {
    "name": "ipython",
    "version": 3
   },
   "file_extension": ".py",
   "mimetype": "text/x-python",
   "name": "python",
   "nbconvert_exporter": "python",
   "pygments_lexer": "ipython3",
   "version": "3.11.9"
  }
 },
 "nbformat": 4,
 "nbformat_minor": 2
}
